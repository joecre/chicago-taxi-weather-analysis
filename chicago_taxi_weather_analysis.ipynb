{
 "cells": [
  {
   "cell_type": "markdown",
   "metadata": {},
   "source": [
    "# How Rain Affects Travel Time: A Taxi Ride Analysis from the Loop to O’Hare"
   ]
  },
  {
   "cell_type": "markdown",
   "metadata": {},
   "source": [
    "## Introduction\n",
    "In this project, I analyzed taxi ride data to explore whether trips from Chicago’s Loop to O’Hare Airport take longer on rainy Saturdays compared to dry ones. Rainy conditions often lead to reduced visibility and slippery roads, which can affect driving times. Understanding this relationship can help travelers and service providers plan better for weather-related delays.\n",
    "\n",
    "The dataset was provided through the TripleTen learning platform and includes ride, company, and weather data from November 2017. This project was completed in a Jupyter Notebook environment within the platform. Because the original datasets are not publicly available, the notebook includes preserved outputs but may not run outside the original environment."
   ]
  },
  {
   "cell_type": "code",
   "execution_count": 1,
   "metadata": {
    "trusted": false
   },
   "outputs": [],
   "source": [
    "# import necessary libraries \n",
    "import pandas as pd\n",
    "import matplotlib.pyplot as plt\n",
    "import seaborn as sns\n",
    "from scipy import stats"
   ]
  },
  {
   "cell_type": "code",
   "execution_count": 2,
   "metadata": {
    "trusted": false
   },
   "outputs": [
    {
     "name": "stdout",
     "output_type": "stream",
     "text": [
      "<class 'pandas.core.frame.DataFrame'>\n",
      "RangeIndex: 64 entries, 0 to 63\n",
      "Data columns (total 2 columns):\n",
      " #   Column        Non-Null Count  Dtype \n",
      "---  ------        --------------  ----- \n",
      " 0   company_name  64 non-null     object\n",
      " 1   trips_amount  64 non-null     int64 \n",
      "dtypes: int64(1), object(1)\n",
      "memory usage: 1.1+ KB\n"
     ]
    },
    {
     "data": {
      "text/html": [
       "<div>\n",
       "<style scoped>\n",
       "    .dataframe tbody tr th:only-of-type {\n",
       "        vertical-align: middle;\n",
       "    }\n",
       "\n",
       "    .dataframe tbody tr th {\n",
       "        vertical-align: top;\n",
       "    }\n",
       "\n",
       "    .dataframe thead th {\n",
       "        text-align: right;\n",
       "    }\n",
       "</style>\n",
       "<table border=\"1\" class=\"dataframe\">\n",
       "  <thead>\n",
       "    <tr style=\"text-align: right;\">\n",
       "      <th></th>\n",
       "      <th>company_name</th>\n",
       "      <th>trips_amount</th>\n",
       "    </tr>\n",
       "  </thead>\n",
       "  <tbody>\n",
       "    <tr>\n",
       "      <th>0</th>\n",
       "      <td>Flash Cab</td>\n",
       "      <td>19558</td>\n",
       "    </tr>\n",
       "    <tr>\n",
       "      <th>1</th>\n",
       "      <td>Taxi Affiliation Services</td>\n",
       "      <td>11422</td>\n",
       "    </tr>\n",
       "    <tr>\n",
       "      <th>2</th>\n",
       "      <td>Medallion Leasing</td>\n",
       "      <td>10367</td>\n",
       "    </tr>\n",
       "    <tr>\n",
       "      <th>3</th>\n",
       "      <td>Yellow Cab</td>\n",
       "      <td>9888</td>\n",
       "    </tr>\n",
       "    <tr>\n",
       "      <th>4</th>\n",
       "      <td>Taxi Affiliation Service Yellow</td>\n",
       "      <td>9299</td>\n",
       "    </tr>\n",
       "  </tbody>\n",
       "</table>\n",
       "</div>"
      ],
      "text/plain": [
       "                      company_name  trips_amount\n",
       "0                        Flash Cab         19558\n",
       "1        Taxi Affiliation Services         11422\n",
       "2                Medallion Leasing         10367\n",
       "3                       Yellow Cab          9888\n",
       "4  Taxi Affiliation Service Yellow          9299"
      ]
     },
     "execution_count": 2,
     "metadata": {},
     "output_type": "execute_result"
    }
   ],
   "source": [
    "#load and examine data\n",
    "companies_data = pd.read_csv('/datasets/project_sql_result_01.csv')\n",
    "companies_data.info()\n",
    "companies_data.head()"
   ]
  },
  {
   "cell_type": "code",
   "execution_count": 3,
   "metadata": {
    "trusted": false
   },
   "outputs": [
    {
     "name": "stdout",
     "output_type": "stream",
     "text": [
      "Number of duplicates in companies_data: 0\n"
     ]
    }
   ],
   "source": [
    "#check for duplicates\n",
    "print(f\"Number of duplicates in companies_data: {companies_data.duplicated().sum()}\")\n",
    "# drop duplicates\n",
    "companies_data = companies_data.drop_duplicates()"
   ]
  },
  {
   "cell_type": "code",
   "execution_count": 4,
   "metadata": {
    "trusted": false
   },
   "outputs": [
    {
     "name": "stdout",
     "output_type": "stream",
     "text": [
      "<class 'pandas.core.frame.DataFrame'>\n",
      "RangeIndex: 94 entries, 0 to 93\n",
      "Data columns (total 2 columns):\n",
      " #   Column                 Non-Null Count  Dtype  \n",
      "---  ------                 --------------  -----  \n",
      " 0   dropoff_location_name  94 non-null     object \n",
      " 1   average_trips          94 non-null     float64\n",
      "dtypes: float64(1), object(1)\n",
      "memory usage: 1.6+ KB\n"
     ]
    },
    {
     "data": {
      "text/html": [
       "<div>\n",
       "<style scoped>\n",
       "    .dataframe tbody tr th:only-of-type {\n",
       "        vertical-align: middle;\n",
       "    }\n",
       "\n",
       "    .dataframe tbody tr th {\n",
       "        vertical-align: top;\n",
       "    }\n",
       "\n",
       "    .dataframe thead th {\n",
       "        text-align: right;\n",
       "    }\n",
       "</style>\n",
       "<table border=\"1\" class=\"dataframe\">\n",
       "  <thead>\n",
       "    <tr style=\"text-align: right;\">\n",
       "      <th></th>\n",
       "      <th>dropoff_location_name</th>\n",
       "      <th>average_trips</th>\n",
       "    </tr>\n",
       "  </thead>\n",
       "  <tbody>\n",
       "    <tr>\n",
       "      <th>0</th>\n",
       "      <td>Loop</td>\n",
       "      <td>10727.466667</td>\n",
       "    </tr>\n",
       "    <tr>\n",
       "      <th>1</th>\n",
       "      <td>River North</td>\n",
       "      <td>9523.666667</td>\n",
       "    </tr>\n",
       "    <tr>\n",
       "      <th>2</th>\n",
       "      <td>Streeterville</td>\n",
       "      <td>6664.666667</td>\n",
       "    </tr>\n",
       "    <tr>\n",
       "      <th>3</th>\n",
       "      <td>West Loop</td>\n",
       "      <td>5163.666667</td>\n",
       "    </tr>\n",
       "    <tr>\n",
       "      <th>4</th>\n",
       "      <td>O'Hare</td>\n",
       "      <td>2546.900000</td>\n",
       "    </tr>\n",
       "  </tbody>\n",
       "</table>\n",
       "</div>"
      ],
      "text/plain": [
       "  dropoff_location_name  average_trips\n",
       "0                  Loop   10727.466667\n",
       "1           River North    9523.666667\n",
       "2         Streeterville    6664.666667\n",
       "3             West Loop    5163.666667\n",
       "4                O'Hare    2546.900000"
      ]
     },
     "execution_count": 4,
     "metadata": {},
     "output_type": "execute_result"
    }
   ],
   "source": [
    "#load and examine data\n",
    "dropoff_data = pd.read_csv('/datasets/project_sql_result_04.csv')\n",
    "dropoff_data.info()\n",
    "dropoff_data.head()"
   ]
  },
  {
   "cell_type": "code",
   "execution_count": 5,
   "metadata": {
    "trusted": false
   },
   "outputs": [
    {
     "name": "stdout",
     "output_type": "stream",
     "text": [
      "Number of duplicates in dropoff_data: 0\n"
     ]
    }
   ],
   "source": [
    "#check for duplicates\n",
    "print(f\"Number of duplicates in dropoff_data: {dropoff_data.duplicated().sum()}\")\n",
    "# drop duplicates\n",
    "dropoff_data = dropoff_data.drop_duplicates()"
   ]
  },
  {
   "cell_type": "code",
   "execution_count": 6,
   "metadata": {
    "trusted": false
   },
   "outputs": [],
   "source": [
    "top_neighborhoods = dropoff_data.sort_values(by='average_trips', ascending=False).head(10)"
   ]
  },
  {
   "cell_type": "code",
   "execution_count": 7,
   "metadata": {
    "trusted": false
   },
   "outputs": [
    {
     "data": {
      "text/html": [
       "<div>\n",
       "<style scoped>\n",
       "    .dataframe tbody tr th:only-of-type {\n",
       "        vertical-align: middle;\n",
       "    }\n",
       "\n",
       "    .dataframe tbody tr th {\n",
       "        vertical-align: top;\n",
       "    }\n",
       "\n",
       "    .dataframe thead th {\n",
       "        text-align: right;\n",
       "    }\n",
       "</style>\n",
       "<table border=\"1\" class=\"dataframe\">\n",
       "  <thead>\n",
       "    <tr style=\"text-align: right;\">\n",
       "      <th></th>\n",
       "      <th>dropoff_location_name</th>\n",
       "      <th>average_trips</th>\n",
       "    </tr>\n",
       "  </thead>\n",
       "  <tbody>\n",
       "    <tr>\n",
       "      <th>0</th>\n",
       "      <td>Loop</td>\n",
       "      <td>10727.466667</td>\n",
       "    </tr>\n",
       "    <tr>\n",
       "      <th>1</th>\n",
       "      <td>River North</td>\n",
       "      <td>9523.666667</td>\n",
       "    </tr>\n",
       "    <tr>\n",
       "      <th>2</th>\n",
       "      <td>Streeterville</td>\n",
       "      <td>6664.666667</td>\n",
       "    </tr>\n",
       "    <tr>\n",
       "      <th>3</th>\n",
       "      <td>West Loop</td>\n",
       "      <td>5163.666667</td>\n",
       "    </tr>\n",
       "    <tr>\n",
       "      <th>4</th>\n",
       "      <td>O'Hare</td>\n",
       "      <td>2546.900000</td>\n",
       "    </tr>\n",
       "    <tr>\n",
       "      <th>5</th>\n",
       "      <td>Lake View</td>\n",
       "      <td>2420.966667</td>\n",
       "    </tr>\n",
       "    <tr>\n",
       "      <th>6</th>\n",
       "      <td>Grant Park</td>\n",
       "      <td>2068.533333</td>\n",
       "    </tr>\n",
       "    <tr>\n",
       "      <th>7</th>\n",
       "      <td>Museum Campus</td>\n",
       "      <td>1510.000000</td>\n",
       "    </tr>\n",
       "    <tr>\n",
       "      <th>8</th>\n",
       "      <td>Gold Coast</td>\n",
       "      <td>1364.233333</td>\n",
       "    </tr>\n",
       "    <tr>\n",
       "      <th>9</th>\n",
       "      <td>Sheffield &amp; DePaul</td>\n",
       "      <td>1259.766667</td>\n",
       "    </tr>\n",
       "  </tbody>\n",
       "</table>\n",
       "</div>"
      ],
      "text/plain": [
       "  dropoff_location_name  average_trips\n",
       "0                  Loop   10727.466667\n",
       "1           River North    9523.666667\n",
       "2         Streeterville    6664.666667\n",
       "3             West Loop    5163.666667\n",
       "4                O'Hare    2546.900000\n",
       "5             Lake View    2420.966667\n",
       "6            Grant Park    2068.533333\n",
       "7         Museum Campus    1510.000000\n",
       "8            Gold Coast    1364.233333\n",
       "9    Sheffield & DePaul    1259.766667"
      ]
     },
     "execution_count": 7,
     "metadata": {},
     "output_type": "execute_result"
    }
   ],
   "source": [
    "#display top 10 neighborhoods\n",
    "top_neighborhoods"
   ]
  },
  {
   "cell_type": "code",
   "execution_count": null,
   "metadata": {
    "trusted": false
   },
   "outputs": [
    {
     "data": {
      "text/html": [
       "<div>\n",
       "<style scoped>\n",
       "    .dataframe tbody tr th:only-of-type {\n",
       "        vertical-align: middle;\n",
       "    }\n",
       "\n",
       "    .dataframe tbody tr th {\n",
       "        vertical-align: top;\n",
       "    }\n",
       "\n",
       "    .dataframe thead th {\n",
       "        text-align: right;\n",
       "    }\n",
       "</style>\n",
       "<table border=\"1\" class=\"dataframe\">\n",
       "  <thead>\n",
       "    <tr style=\"text-align: right;\">\n",
       "      <th></th>\n",
       "      <th>dropoff_location_name</th>\n",
       "      <th>average_trips</th>\n",
       "    </tr>\n",
       "  </thead>\n",
       "  <tbody>\n",
       "    <tr>\n",
       "      <th>0</th>\n",
       "      <td>Loop</td>\n",
       "      <td>10727.466667</td>\n",
       "    </tr>\n",
       "    <tr>\n",
       "      <th>1</th>\n",
       "      <td>River North</td>\n",
       "      <td>9523.666667</td>\n",
       "    </tr>\n",
       "    <tr>\n",
       "      <th>2</th>\n",
       "      <td>Streeterville</td>\n",
       "      <td>6664.666667</td>\n",
       "    </tr>\n",
       "  </tbody>\n",
       "</table>\n",
       "</div>"
      ],
      "text/plain": [
       "  dropoff_location_name  average_trips\n",
       "0                  Loop   10727.466667\n",
       "1           River North    9523.666667\n",
       "2         Streeterville    6664.666667"
      ]
     },
     "metadata": {},
     "output_type": "display_data"
    },
    {
     "data": {
      "text/html": [
       "<div>\n",
       "<style scoped>\n",
       "    .dataframe tbody tr th:only-of-type {\n",
       "        vertical-align: middle;\n",
       "    }\n",
       "\n",
       "    .dataframe tbody tr th {\n",
       "        vertical-align: top;\n",
       "    }\n",
       "\n",
       "    .dataframe thead th {\n",
       "        text-align: right;\n",
       "    }\n",
       "</style>\n",
       "<table border=\"1\" class=\"dataframe\">\n",
       "  <thead>\n",
       "    <tr style=\"text-align: right;\">\n",
       "      <th></th>\n",
       "      <th>dropoff_location_name</th>\n",
       "      <th>average_trips</th>\n",
       "    </tr>\n",
       "  </thead>\n",
       "  <tbody>\n",
       "    <tr>\n",
       "      <th>7</th>\n",
       "      <td>Museum Campus</td>\n",
       "      <td>1510.000000</td>\n",
       "    </tr>\n",
       "    <tr>\n",
       "      <th>8</th>\n",
       "      <td>Gold Coast</td>\n",
       "      <td>1364.233333</td>\n",
       "    </tr>\n",
       "    <tr>\n",
       "      <th>9</th>\n",
       "      <td>Sheffield &amp; DePaul</td>\n",
       "      <td>1259.766667</td>\n",
       "    </tr>\n",
       "  </tbody>\n",
       "</table>\n",
       "</div>"
      ],
      "text/plain": [
       "  dropoff_location_name  average_trips\n",
       "7         Museum Campus    1510.000000\n",
       "8            Gold Coast    1364.233333\n",
       "9    Sheffield & DePaul    1259.766667"
      ]
     },
     "execution_count": 8,
     "metadata": {},
     "output_type": "execute_result"
    }
   ],
   "source": [
    "\n",
    "display(top_neighborhoods.head(3))\n",
    "\n",
    "top_neighborhoods.tail(3)"
   ]
  },
  {
   "cell_type": "code",
   "execution_count": 9,
   "metadata": {
    "scrolled": false,
    "trusted": false
   },
   "outputs": [
    {
     "data": {
      "image/png": "[encoded data removed]",
      "text/plain": [
       "<Figure size 1000x600 with 1 Axes>"
      ]
     },
     "metadata": {},
     "output_type": "display_data"
    }
   ],
   "source": [
    "companies_data_sorted = companies_data.sort_values(by='trips_amount', ascending=False).head(15)\n",
    "\n",
    "# Plot taxi companies and number of rides\n",
    "plt.figure(figsize=(10, len(companies_data_sorted) * 0.4))\n",
    "sns.barplot(data=companies_data_sorted, x='trips_amount', y='company_name', palette=\"Blues_d\")\n",
    "plt.title('Number of Rides by Taxi Company (Nov 15-16, 2017)')\n",
    "plt.xlabel('Number of Rides')\n",
    "plt.ylabel('Taxi Company')\n",
    "plt.show()"
   ]
  },
  {
   "cell_type": "markdown",
   "metadata": {},
   "source": [
    "Of the 64 companies shown, only a few dominated the market with a far greater share of rides. There were many companies with only a small number if rides, possibly because of different resources and niche routes. "
   ]
  },
  {
   "cell_type": "code",
   "execution_count": 10,
   "metadata": {
    "trusted": false
   },
   "outputs": [
    {
     "data": {
      "image/png": "[encoded data removed]",
      "text/plain": [
       "<Figure size 1200x600 with 1 Axes>"
      ]
     },
     "metadata": {},
     "output_type": "display_data"
    }
   ],
   "source": [
    "# Plot top 10 neighborhoods by average drop-offs\n",
    "plt.figure(figsize=(12, 6))\n",
    "sns.barplot(data=top_neighborhoods, x='average_trips', y='dropoff_location_name', palette=\"viridis\")\n",
    "plt.title('Top 10 Chicago Neighborhoods by Average Drop-offs (November 2017)')\n",
    "plt.xlabel('Average Number of Drop-offs')\n",
    "plt.ylabel('Neighborhood')\n",
    "plt.show()"
   ]
  },
  {
   "cell_type": "markdown",
   "metadata": {},
   "source": [
    "The top 10 neighborhoods for taxi drop-offs are mostly busy areas like the Loop, River North, and Streeterville. This shows that people need taxis most in busier urban areas. "
   ]
  },
  {
   "cell_type": "code",
   "execution_count": 11,
   "metadata": {
    "trusted": false
   },
   "outputs": [
    {
     "name": "stdout",
     "output_type": "stream",
     "text": [
      "<class 'pandas.core.frame.DataFrame'>\n",
      "RangeIndex: 1068 entries, 0 to 1067\n",
      "Data columns (total 3 columns):\n",
      " #   Column              Non-Null Count  Dtype         \n",
      "---  ------              --------------  -----         \n",
      " 0   start_ts            1068 non-null   datetime64[ns]\n",
      " 1   weather_conditions  1068 non-null   object        \n",
      " 2   duration_seconds    1068 non-null   float64       \n",
      "dtypes: datetime64[ns](1), float64(1), object(1)\n",
      "memory usage: 25.2+ KB\n"
     ]
    },
    {
     "data": {
      "text/html": [
       "<div>\n",
       "<style scoped>\n",
       "    .dataframe tbody tr th:only-of-type {\n",
       "        vertical-align: middle;\n",
       "    }\n",
       "\n",
       "    .dataframe tbody tr th {\n",
       "        vertical-align: top;\n",
       "    }\n",
       "\n",
       "    .dataframe thead th {\n",
       "        text-align: right;\n",
       "    }\n",
       "</style>\n",
       "<table border=\"1\" class=\"dataframe\">\n",
       "  <thead>\n",
       "    <tr style=\"text-align: right;\">\n",
       "      <th></th>\n",
       "      <th>start_ts</th>\n",
       "      <th>weather_conditions</th>\n",
       "      <th>duration_seconds</th>\n",
       "    </tr>\n",
       "  </thead>\n",
       "  <tbody>\n",
       "    <tr>\n",
       "      <th>0</th>\n",
       "      <td>2017-11-25 16:00:00</td>\n",
       "      <td>Good</td>\n",
       "      <td>2410.0</td>\n",
       "    </tr>\n",
       "    <tr>\n",
       "      <th>1</th>\n",
       "      <td>2017-11-25 14:00:00</td>\n",
       "      <td>Good</td>\n",
       "      <td>1920.0</td>\n",
       "    </tr>\n",
       "    <tr>\n",
       "      <th>2</th>\n",
       "      <td>2017-11-25 12:00:00</td>\n",
       "      <td>Good</td>\n",
       "      <td>1543.0</td>\n",
       "    </tr>\n",
       "    <tr>\n",
       "      <th>3</th>\n",
       "      <td>2017-11-04 10:00:00</td>\n",
       "      <td>Good</td>\n",
       "      <td>2512.0</td>\n",
       "    </tr>\n",
       "    <tr>\n",
       "      <th>4</th>\n",
       "      <td>2017-11-11 07:00:00</td>\n",
       "      <td>Good</td>\n",
       "      <td>1440.0</td>\n",
       "    </tr>\n",
       "  </tbody>\n",
       "</table>\n",
       "</div>"
      ],
      "text/plain": [
       "             start_ts weather_conditions  duration_seconds\n",
       "0 2017-11-25 16:00:00               Good            2410.0\n",
       "1 2017-11-25 14:00:00               Good            1920.0\n",
       "2 2017-11-25 12:00:00               Good            1543.0\n",
       "3 2017-11-04 10:00:00               Good            2512.0\n",
       "4 2017-11-11 07:00:00               Good            1440.0"
      ]
     },
     "execution_count": 11,
     "metadata": {},
     "output_type": "execute_result"
    }
   ],
   "source": [
    "#load data with automatic datetime parsing and examine \n",
    "rides_weather = pd.read_csv('/datasets/project_sql_result_07.csv', parse_dates=['start_ts'])\n",
    "rides_weather.info()\n",
    "rides_weather.head()"
   ]
  },
  {
   "cell_type": "code",
   "execution_count": 12,
   "metadata": {
    "scrolled": true,
    "trusted": false
   },
   "outputs": [
    {
     "data": {
      "text/html": [
       "<div>\n",
       "<style scoped>\n",
       "    .dataframe tbody tr th:only-of-type {\n",
       "        vertical-align: middle;\n",
       "    }\n",
       "\n",
       "    .dataframe tbody tr th {\n",
       "        vertical-align: top;\n",
       "    }\n",
       "\n",
       "    .dataframe thead th {\n",
       "        text-align: right;\n",
       "    }\n",
       "</style>\n",
       "<table border=\"1\" class=\"dataframe\">\n",
       "  <thead>\n",
       "    <tr style=\"text-align: right;\">\n",
       "      <th></th>\n",
       "      <th>start_ts</th>\n",
       "      <th>weather_conditions</th>\n",
       "      <th>duration_seconds</th>\n",
       "    </tr>\n",
       "  </thead>\n",
       "  <tbody>\n",
       "    <tr>\n",
       "      <th>62</th>\n",
       "      <td>2017-11-11 06:00:00</td>\n",
       "      <td>Good</td>\n",
       "      <td>1260.0</td>\n",
       "    </tr>\n",
       "    <tr>\n",
       "      <th>74</th>\n",
       "      <td>2017-11-11 08:00:00</td>\n",
       "      <td>Good</td>\n",
       "      <td>1380.0</td>\n",
       "    </tr>\n",
       "    <tr>\n",
       "      <th>76</th>\n",
       "      <td>2017-11-04 09:00:00</td>\n",
       "      <td>Good</td>\n",
       "      <td>1380.0</td>\n",
       "    </tr>\n",
       "    <tr>\n",
       "      <th>117</th>\n",
       "      <td>2017-11-11 07:00:00</td>\n",
       "      <td>Good</td>\n",
       "      <td>1380.0</td>\n",
       "    </tr>\n",
       "    <tr>\n",
       "      <th>119</th>\n",
       "      <td>2017-11-04 14:00:00</td>\n",
       "      <td>Good</td>\n",
       "      <td>3300.0</td>\n",
       "    </tr>\n",
       "    <tr>\n",
       "      <th>...</th>\n",
       "      <td>...</td>\n",
       "      <td>...</td>\n",
       "      <td>...</td>\n",
       "    </tr>\n",
       "    <tr>\n",
       "      <th>1054</th>\n",
       "      <td>2017-11-11 07:00:00</td>\n",
       "      <td>Good</td>\n",
       "      <td>1380.0</td>\n",
       "    </tr>\n",
       "    <tr>\n",
       "      <th>1058</th>\n",
       "      <td>2017-11-25 12:00:00</td>\n",
       "      <td>Good</td>\n",
       "      <td>1440.0</td>\n",
       "    </tr>\n",
       "    <tr>\n",
       "      <th>1062</th>\n",
       "      <td>2017-11-11 06:00:00</td>\n",
       "      <td>Good</td>\n",
       "      <td>1500.0</td>\n",
       "    </tr>\n",
       "    <tr>\n",
       "      <th>1065</th>\n",
       "      <td>2017-11-11 13:00:00</td>\n",
       "      <td>Good</td>\n",
       "      <td>2100.0</td>\n",
       "    </tr>\n",
       "    <tr>\n",
       "      <th>1066</th>\n",
       "      <td>2017-11-11 08:00:00</td>\n",
       "      <td>Good</td>\n",
       "      <td>1380.0</td>\n",
       "    </tr>\n",
       "  </tbody>\n",
       "</table>\n",
       "<p>197 rows × 3 columns</p>\n",
       "</div>"
      ],
      "text/plain": [
       "                start_ts weather_conditions  duration_seconds\n",
       "62   2017-11-11 06:00:00               Good            1260.0\n",
       "74   2017-11-11 08:00:00               Good            1380.0\n",
       "76   2017-11-04 09:00:00               Good            1380.0\n",
       "117  2017-11-11 07:00:00               Good            1380.0\n",
       "119  2017-11-04 14:00:00               Good            3300.0\n",
       "...                  ...                ...               ...\n",
       "1054 2017-11-11 07:00:00               Good            1380.0\n",
       "1058 2017-11-25 12:00:00               Good            1440.0\n",
       "1062 2017-11-11 06:00:00               Good            1500.0\n",
       "1065 2017-11-11 13:00:00               Good            2100.0\n",
       "1066 2017-11-11 08:00:00               Good            1380.0\n",
       "\n",
       "[197 rows x 3 columns]"
      ]
     },
     "execution_count": 12,
     "metadata": {},
     "output_type": "execute_result"
    }
   ],
   "source": [
    "# Display duplicate rows, if any\n",
    "duplicate_rows = rides_weather[rides_weather.duplicated()]\n",
    "duplicate_rows\n"
   ]
  },
  {
   "cell_type": "code",
   "execution_count": 13,
   "metadata": {
    "trusted": false
   },
   "outputs": [],
   "source": [
    "#drop duplicates\n",
    "rides_weather = rides_weather.drop_duplicates()\n"
   ]
  },
  {
   "cell_type": "code",
   "execution_count": 14,
   "metadata": {
    "trusted": false
   },
   "outputs": [
    {
     "data": {
      "text/html": [
       "<div>\n",
       "<style scoped>\n",
       "    .dataframe tbody tr th:only-of-type {\n",
       "        vertical-align: middle;\n",
       "    }\n",
       "\n",
       "    .dataframe tbody tr th {\n",
       "        vertical-align: top;\n",
       "    }\n",
       "\n",
       "    .dataframe thead th {\n",
       "        text-align: right;\n",
       "    }\n",
       "</style>\n",
       "<table border=\"1\" class=\"dataframe\">\n",
       "  <thead>\n",
       "    <tr style=\"text-align: right;\">\n",
       "      <th></th>\n",
       "      <th>start_ts</th>\n",
       "      <th>weather_conditions</th>\n",
       "      <th>duration_seconds</th>\n",
       "    </tr>\n",
       "  </thead>\n",
       "  <tbody>\n",
       "  </tbody>\n",
       "</table>\n",
       "</div>"
      ],
      "text/plain": [
       "Empty DataFrame\n",
       "Columns: [start_ts, weather_conditions, duration_seconds]\n",
       "Index: []"
      ]
     },
     "execution_count": 14,
     "metadata": {},
     "output_type": "execute_result"
    }
   ],
   "source": [
    "# Display duplicate rows, if any\n",
    "duplicate_rows = rides_weather[rides_weather.duplicated()]\n",
    "duplicate_rows\n"
   ]
  },
  {
   "cell_type": "markdown",
   "metadata": {},
   "source": [
    "Hypothesis to test: The average duration of rides from the Loop to O'Hare International Airport changes on rainy Saturdays.\n",
    "\n",
    "Null Hypothesis (HO): The average duration of rides from the Loop to O'Hare on rainy Saturdays is the same as on non-rainy Saturdays.\n",
    "\n",
    "Alternate Hypothesis (H1): The average duration of rides from the Loop to O'Hare on rainy Saturdays is different from that on non-rainy Saturdays."
   ]
  },
  {
   "cell_type": "code",
   "execution_count": 15,
   "metadata": {
    "trusted": false
   },
   "outputs": [
    {
     "name": "stdout",
     "output_type": "stream",
     "text": [
      "Unique weather conditions: ['Good' 'Bad']\n"
     ]
    }
   ],
   "source": [
    "print(\"Unique weather conditions:\", rides_weather['weather_conditions'].unique())"
   ]
  },
  {
   "cell_type": "code",
   "execution_count": 16,
   "metadata": {
    "trusted": false
   },
   "outputs": [],
   "source": [
    "# Filter for rides that occurred on Saturdays\n",
    "rides_weather['day_of_week'] = rides_weather['start_ts'].dt.day_name()\n",
    "saturday_data = rides_weather[rides_weather['day_of_week'] == 'Saturday']\n",
    "\n",
    "# Split data into rainy and non-rainy Saturdays\n",
    "rainy_saturday_data = saturday_data[saturday_data['weather_conditions'] == 'Bad']\n",
    "non_rainy_saturday_data = saturday_data[saturday_data['weather_conditions'] == 'Good']\n",
    "\n",
    "# Extract ride durations for both groups\n",
    "rainy_durations = rainy_saturday_data['duration_seconds']\n",
    "non_rainy_durations = non_rainy_saturday_data['duration_seconds']\n",
    "\n"
   ]
  },
  {
   "cell_type": "code",
   "execution_count": 17,
   "metadata": {
    "trusted": false
   },
   "outputs": [
    {
     "name": "stdout",
     "output_type": "stream",
     "text": [
      "Rainy Saturday durations count: 148\n",
      "Non-rainy Saturday durations count: 723\n",
      "Rainy Saturday durations summary:\n",
      " count     148.000000\n",
      "mean     2409.229730\n",
      "std       751.544705\n",
      "min       480.000000\n",
      "25%      1746.000000\n",
      "50%      2463.500000\n",
      "75%      2940.000000\n",
      "max      4980.000000\n",
      "Name: duration_seconds, dtype: float64\n",
      "Non-rainy Saturday durations summary:\n",
      " count     723.000000\n",
      "mean     2032.253112\n",
      "std       773.444860\n",
      "min         0.000000\n",
      "25%      1435.500000\n",
      "50%      1883.000000\n",
      "75%      2491.500000\n",
      "max      7440.000000\n",
      "Name: duration_seconds, dtype: float64\n"
     ]
    }
   ],
   "source": [
    "# Check if either group is empty or contains identical values\n",
    "print(\"Rainy Saturday durations count:\", len(rainy_durations))\n",
    "print(\"Non-rainy Saturday durations count:\", len(non_rainy_durations))\n",
    "\n",
    "print(\"Rainy Saturday durations summary:\\n\", rainy_durations.describe())\n",
    "print(\"Non-rainy Saturday durations summary:\\n\", non_rainy_durations.describe())\n"
   ]
  },
  {
   "cell_type": "markdown",
   "metadata": {},
   "source": [
    "Note that the average ride duration on rainy Saturdays is 377 seconds (6.28 minutes) longer. "
   ]
  },
  {
   "cell_type": "code",
   "execution_count": 18,
   "metadata": {
    "trusted": false
   },
   "outputs": [
    {
     "name": "stdout",
     "output_type": "stream",
     "text": [
      "T-statistic: 5.531968188074177\n",
      "P-value: 9.126383933880083e-08\n",
      "Reject the null hypothesis: The average duration of rides differs on rainy Saturdays.\n"
     ]
    }
   ],
   "source": [
    "# Perform an independent t-test\n",
    "t_stat, p_value = stats.ttest_ind(rainy_durations, non_rainy_durations, equal_var=False)\n",
    "\n",
    "# Set significance level\n",
    "alpha = 0.05\n",
    "\n",
    "# Display the results\n",
    "print(f\"T-statistic: {t_stat}\")\n",
    "print(f\"P-value: {p_value}\")\n",
    "\n",
    "# Conclusion\n",
    "if p_value < alpha:\n",
    "    print(\"Reject the null hypothesis: The average duration of rides differs on rainy Saturdays.\")\n",
    "else:\n",
    "    print(\"Fail to reject the null hypothesis: No significant difference in average ride duration on rainy Saturdays.\")\n"
   ]
  },
  {
   "cell_type": "markdown",
   "metadata": {},
   "source": [
    "The t-test results lead us to reject the null hypothesis, suggesting that rain does affect the average ride duration on Saturdays."
   ]
  },
  {
   "cell_type": "markdown",
   "metadata": {},
   "source": [
    "## Conclusion\n",
    "This project analyzed Chicago taxi data to uncover patterns in company activity, popular drop-off neighborhoods, and the effect of weather on ride duration to O’Hare Airport. The findings show that a small number of companies dominate the market and that drop-offs cluster in high-traffic areas like the Loop and River North. Most notably, rides to the airport were significantly longer on rainy Saturdays, confirming that weather plays a measurable role in travel time. These insights could help both riders and transit planners better prepare for weather-related delays."
   ]
  }
 ],
 "metadata": {
  "ExecuteTimeLog": [
   {
    "duration": 318,
    "start_time": "2024-10-26T20:54:28.765Z"
   },
   {
    "duration": 10,
    "start_time": "2024-10-26T20:54:29.085Z"
   },
   {
    "duration": 543,
    "start_time": "2024-10-26T20:54:29.096Z"
   },
   {
    "duration": 332,
    "start_time": "2024-10-26T20:54:43.153Z"
   },
   {
    "duration": 6,
    "start_time": "2024-10-26T20:54:43.487Z"
   },
   {
    "duration": 8,
    "start_time": "2024-10-26T20:54:43.494Z"
   },
   {
    "duration": 326,
    "start_time": "2024-10-26T20:56:11.054Z"
   },
   {
    "duration": 19,
    "start_time": "2024-10-26T20:56:11.381Z"
   },
   {
    "duration": 13,
    "start_time": "2024-10-26T20:56:11.402Z"
   },
   {
    "duration": 2470,
    "start_time": "2024-11-02T18:46:05.965Z"
   },
   {
    "duration": 19,
    "start_time": "2024-11-02T18:46:08.437Z"
   },
   {
    "duration": 13,
    "start_time": "2024-11-02T18:46:08.457Z"
   },
   {
    "duration": 3,
    "start_time": "2024-11-02T18:46:54.766Z"
   },
   {
    "duration": 795,
    "start_time": "2024-11-02T18:47:05.123Z"
   },
   {
    "duration": 16,
    "start_time": "2024-11-02T18:47:05.920Z"
   },
   {
    "duration": 13,
    "start_time": "2024-11-02T18:47:05.937Z"
   },
   {
    "duration": 3,
    "start_time": "2024-11-02T18:47:05.951Z"
   },
   {
    "duration": 3,
    "start_time": "2024-11-02T18:47:24.591Z"
   },
   {
    "duration": 4,
    "start_time": "2024-11-02T18:47:43.589Z"
   },
   {
    "duration": 4,
    "start_time": "2024-11-02T18:55:00.875Z"
   },
   {
    "duration": 1108,
    "start_time": "2024-11-02T18:59:25.864Z"
   },
   {
    "duration": 1151,
    "start_time": "2024-11-02T18:59:54.391Z"
   },
   {
    "duration": 162,
    "start_time": "2024-11-02T19:01:21.107Z"
   },
   {
    "duration": 166,
    "start_time": "2024-11-02T20:34:27.768Z"
   },
   {
    "duration": 13,
    "start_time": "2024-11-02T20:35:10.361Z"
   },
   {
    "duration": 2571,
    "start_time": "2024-11-02T20:35:19.447Z"
   },
   {
    "duration": 17,
    "start_time": "2024-11-02T20:35:22.020Z"
   },
   {
    "duration": 14,
    "start_time": "2024-11-02T20:35:22.039Z"
   },
   {
    "duration": 2,
    "start_time": "2024-11-02T20:35:22.055Z"
   },
   {
    "duration": 3,
    "start_time": "2024-11-02T20:35:22.060Z"
   },
   {
    "duration": 1230,
    "start_time": "2024-11-02T20:35:22.065Z"
   },
   {
    "duration": 1185,
    "start_time": "2024-11-02T20:35:23.297Z"
   },
   {
    "duration": 162,
    "start_time": "2024-11-02T20:35:24.487Z"
   },
   {
    "duration": 1243,
    "start_time": "2024-11-02T20:36:43.150Z"
   },
   {
    "duration": 156,
    "start_time": "2024-11-03T00:44:30.407Z"
   },
   {
    "duration": 2482,
    "start_time": "2024-11-03T00:44:38.208Z"
   },
   {
    "duration": 37,
    "start_time": "2024-11-03T00:44:40.692Z"
   },
   {
    "duration": 14,
    "start_time": "2024-11-03T00:44:40.731Z"
   },
   {
    "duration": 4,
    "start_time": "2024-11-03T00:44:40.746Z"
   },
   {
    "duration": 4,
    "start_time": "2024-11-03T00:44:40.752Z"
   },
   {
    "duration": 223,
    "start_time": "2024-11-03T00:44:40.758Z"
   },
   {
    "duration": 0,
    "start_time": "2024-11-03T00:44:40.983Z"
   },
   {
    "duration": 0,
    "start_time": "2024-11-03T00:44:40.984Z"
   },
   {
    "duration": 760,
    "start_time": "2024-11-03T00:45:19.149Z"
   },
   {
    "duration": 16,
    "start_time": "2024-11-03T00:45:19.911Z"
   },
   {
    "duration": 13,
    "start_time": "2024-11-03T00:45:19.929Z"
   },
   {
    "duration": 3,
    "start_time": "2024-11-03T00:45:19.943Z"
   },
   {
    "duration": 4,
    "start_time": "2024-11-03T00:45:19.948Z"
   },
   {
    "duration": 280,
    "start_time": "2024-11-03T00:45:19.955Z"
   },
   {
    "duration": 0,
    "start_time": "2024-11-03T00:45:20.237Z"
   },
   {
    "duration": 0,
    "start_time": "2024-11-03T00:45:20.238Z"
   },
   {
    "duration": 1160,
    "start_time": "2024-11-03T00:46:20.059Z"
   },
   {
    "duration": 758,
    "start_time": "2024-11-03T00:46:29.643Z"
   },
   {
    "duration": 16,
    "start_time": "2024-11-03T00:46:30.403Z"
   },
   {
    "duration": 13,
    "start_time": "2024-11-03T00:46:30.421Z"
   },
   {
    "duration": 3,
    "start_time": "2024-11-03T00:46:30.435Z"
   },
   {
    "duration": 4,
    "start_time": "2024-11-03T00:46:30.440Z"
   },
   {
    "duration": 1256,
    "start_time": "2024-11-03T00:46:30.446Z"
   },
   {
    "duration": 172,
    "start_time": "2024-11-03T00:46:31.704Z"
   },
   {
    "duration": 15,
    "start_time": "2024-11-03T00:46:31.878Z"
   },
   {
    "duration": 2514,
    "start_time": "2024-11-03T14:55:30.143Z"
   },
   {
    "duration": 23,
    "start_time": "2024-11-03T14:55:32.659Z"
   },
   {
    "duration": 15,
    "start_time": "2024-11-03T14:55:32.683Z"
   },
   {
    "duration": 3,
    "start_time": "2024-11-03T14:55:32.700Z"
   },
   {
    "duration": 4,
    "start_time": "2024-11-03T14:55:32.705Z"
   },
   {
    "duration": 1208,
    "start_time": "2024-11-03T14:55:32.711Z"
   },
   {
    "duration": 157,
    "start_time": "2024-11-03T14:55:33.920Z"
   },
   {
    "duration": 17,
    "start_time": "2024-11-03T14:55:34.079Z"
   },
   {
    "duration": 301,
    "start_time": "2024-11-03T14:55:34.098Z"
   },
   {
    "duration": 10,
    "start_time": "2024-11-03T14:55:51.100Z"
   },
   {
    "duration": 2547,
    "start_time": "2024-11-03T15:28:00.401Z"
   },
   {
    "duration": 19,
    "start_time": "2024-11-03T15:28:02.950Z"
   },
   {
    "duration": 14,
    "start_time": "2024-11-03T15:28:02.971Z"
   },
   {
    "duration": 3,
    "start_time": "2024-11-03T15:28:02.987Z"
   },
   {
    "duration": 19,
    "start_time": "2024-11-03T15:28:02.993Z"
   },
   {
    "duration": 9,
    "start_time": "2024-11-03T15:28:03.014Z"
   },
   {
    "duration": 1184,
    "start_time": "2024-11-03T15:28:03.024Z"
   },
   {
    "duration": 165,
    "start_time": "2024-11-03T15:28:04.211Z"
   },
   {
    "duration": 17,
    "start_time": "2024-11-03T15:28:04.378Z"
   },
   {
    "duration": 19,
    "start_time": "2024-11-03T15:28:04.397Z"
   },
   {
    "duration": 10,
    "start_time": "2024-11-03T18:32:27.277Z"
   },
   {
    "duration": 3,
    "start_time": "2024-11-03T18:35:02.386Z"
   },
   {
    "duration": 3,
    "start_time": "2024-11-03T18:35:12.111Z"
   },
   {
    "duration": 3,
    "start_time": "2024-11-03T18:35:51.191Z"
   },
   {
    "duration": 4,
    "start_time": "2024-11-03T18:36:03.772Z"
   },
   {
    "duration": 154,
    "start_time": "2024-11-03T18:38:38.110Z"
   },
   {
    "duration": 2521,
    "start_time": "2024-11-03T18:38:47.782Z"
   },
   {
    "duration": 19,
    "start_time": "2024-11-03T18:38:50.306Z"
   },
   {
    "duration": 18,
    "start_time": "2024-11-03T18:38:50.327Z"
   },
   {
    "duration": 3,
    "start_time": "2024-11-03T18:38:50.346Z"
   },
   {
    "duration": 3,
    "start_time": "2024-11-03T18:38:50.352Z"
   },
   {
    "duration": 9,
    "start_time": "2024-11-03T18:38:50.357Z"
   },
   {
    "duration": 1240,
    "start_time": "2024-11-03T18:38:50.367Z"
   },
   {
    "duration": 156,
    "start_time": "2024-11-03T18:38:51.609Z"
   },
   {
    "duration": 17,
    "start_time": "2024-11-03T18:38:51.767Z"
   },
   {
    "duration": 9,
    "start_time": "2024-11-03T18:38:51.785Z"
   },
   {
    "duration": 10,
    "start_time": "2024-11-03T18:38:51.796Z"
   },
   {
    "duration": 6,
    "start_time": "2024-11-03T18:40:38.042Z"
   },
   {
    "duration": 7,
    "start_time": "2024-11-03T18:40:41.516Z"
   },
   {
    "duration": 8,
    "start_time": "2024-11-03T18:40:44.902Z"
   },
   {
    "duration": 7,
    "start_time": "2024-11-03T18:40:56.989Z"
   },
   {
    "duration": 808,
    "start_time": "2024-11-03T18:41:09.723Z"
   },
   {
    "duration": 26,
    "start_time": "2024-11-03T18:41:10.533Z"
   },
   {
    "duration": 13,
    "start_time": "2024-11-03T18:41:10.560Z"
   },
   {
    "duration": 3,
    "start_time": "2024-11-03T18:41:10.575Z"
   },
   {
    "duration": 3,
    "start_time": "2024-11-03T18:41:10.581Z"
   },
   {
    "duration": 9,
    "start_time": "2024-11-03T18:41:10.586Z"
   },
   {
    "duration": 1262,
    "start_time": "2024-11-03T18:41:10.597Z"
   },
   {
    "duration": 159,
    "start_time": "2024-11-03T18:41:11.861Z"
   },
   {
    "duration": 22,
    "start_time": "2024-11-03T18:41:12.022Z"
   },
   {
    "duration": 10,
    "start_time": "2024-11-03T18:41:12.045Z"
   },
   {
    "duration": 9,
    "start_time": "2024-11-03T18:41:12.056Z"
   },
   {
    "duration": 790,
    "start_time": "2024-11-03T18:41:51.686Z"
   },
   {
    "duration": 16,
    "start_time": "2024-11-03T18:41:52.478Z"
   },
   {
    "duration": 13,
    "start_time": "2024-11-03T18:41:52.495Z"
   },
   {
    "duration": 2,
    "start_time": "2024-11-03T18:41:52.510Z"
   },
   {
    "duration": 4,
    "start_time": "2024-11-03T18:41:52.514Z"
   },
   {
    "duration": 30,
    "start_time": "2024-11-03T18:41:52.519Z"
   },
   {
    "duration": 1242,
    "start_time": "2024-11-03T18:41:52.550Z"
   },
   {
    "duration": 166,
    "start_time": "2024-11-03T18:41:53.793Z"
   },
   {
    "duration": 14,
    "start_time": "2024-11-03T18:41:53.961Z"
   },
   {
    "duration": 9,
    "start_time": "2024-11-03T18:41:53.977Z"
   },
   {
    "duration": 4,
    "start_time": "2024-11-03T18:41:53.987Z"
   },
   {
    "duration": 6,
    "start_time": "2024-11-03T18:41:53.993Z"
   },
   {
    "duration": 43,
    "start_time": "2024-11-03T18:41:54.000Z"
   },
   {
    "duration": 3,
    "start_time": "2024-11-03T18:42:09.613Z"
   },
   {
    "duration": 2552,
    "start_time": "2024-11-03T21:04:16.039Z"
   },
   {
    "duration": 19,
    "start_time": "2024-11-03T21:04:18.593Z"
   },
   {
    "duration": 5,
    "start_time": "2024-11-03T21:04:18.613Z"
   },
   {
    "duration": 23,
    "start_time": "2024-11-03T21:04:18.620Z"
   },
   {
    "duration": 5,
    "start_time": "2024-11-03T21:04:18.646Z"
   },
   {
    "duration": 3,
    "start_time": "2024-11-03T21:04:18.652Z"
   },
   {
    "duration": 4,
    "start_time": "2024-11-03T21:04:18.657Z"
   },
   {
    "duration": 11,
    "start_time": "2024-11-03T21:04:18.664Z"
   },
   {
    "duration": 1315,
    "start_time": "2024-11-03T21:04:18.676Z"
   },
   {
    "duration": 174,
    "start_time": "2024-11-03T21:04:19.993Z"
   },
   {
    "duration": 19,
    "start_time": "2024-11-03T21:04:20.169Z"
   },
   {
    "duration": 10,
    "start_time": "2024-11-03T21:04:20.190Z"
   },
   {
    "duration": 5,
    "start_time": "2024-11-03T21:04:20.201Z"
   },
   {
    "duration": 7,
    "start_time": "2024-11-03T21:04:20.208Z"
   },
   {
    "duration": 35,
    "start_time": "2024-11-03T21:04:20.216Z"
   },
   {
    "duration": 8,
    "start_time": "2024-11-03T21:06:11.394Z"
   },
   {
    "duration": 6,
    "start_time": "2024-11-03T21:06:23.234Z"
   },
   {
    "duration": 8,
    "start_time": "2024-11-03T21:06:35.103Z"
   },
   {
    "duration": 226,
    "start_time": "2024-11-03T21:07:56.163Z"
   },
   {
    "duration": 8,
    "start_time": "2024-11-04T00:42:17.257Z"
   },
   {
    "duration": 159,
    "start_time": "2024-11-04T00:42:30.842Z"
   },
   {
    "duration": 2480,
    "start_time": "2024-11-04T00:42:40.387Z"
   },
   {
    "duration": 21,
    "start_time": "2024-11-04T00:42:42.870Z"
   },
   {
    "duration": 5,
    "start_time": "2024-11-04T00:42:42.893Z"
   },
   {
    "duration": 16,
    "start_time": "2024-11-04T00:42:42.899Z"
   },
   {
    "duration": 4,
    "start_time": "2024-11-04T00:42:42.918Z"
   },
   {
    "duration": 3,
    "start_time": "2024-11-04T00:42:42.943Z"
   },
   {
    "duration": 8,
    "start_time": "2024-11-04T00:42:42.948Z"
   },
   {
    "duration": 10,
    "start_time": "2024-11-04T00:42:42.958Z"
   },
   {
    "duration": 261,
    "start_time": "2024-11-04T00:42:42.970Z"
   },
   {
    "duration": 162,
    "start_time": "2024-11-04T00:42:43.233Z"
   },
   {
    "duration": 19,
    "start_time": "2024-11-04T00:42:43.397Z"
   },
   {
    "duration": 9,
    "start_time": "2024-11-04T00:42:43.418Z"
   },
   {
    "duration": 3,
    "start_time": "2024-11-04T00:42:43.442Z"
   },
   {
    "duration": 7,
    "start_time": "2024-11-04T00:42:43.448Z"
   },
   {
    "duration": 10,
    "start_time": "2024-11-04T00:42:43.456Z"
   },
   {
    "duration": 7,
    "start_time": "2024-11-04T00:43:41.093Z"
   },
   {
    "duration": 793,
    "start_time": "2024-11-04T00:47:46.666Z"
   },
   {
    "duration": 17,
    "start_time": "2024-11-04T00:47:47.461Z"
   },
   {
    "duration": 4,
    "start_time": "2024-11-04T00:47:47.479Z"
   },
   {
    "duration": 14,
    "start_time": "2024-11-04T00:47:47.485Z"
   },
   {
    "duration": 3,
    "start_time": "2024-11-04T00:47:47.502Z"
   },
   {
    "duration": 3,
    "start_time": "2024-11-04T00:47:47.507Z"
   },
   {
    "duration": 31,
    "start_time": "2024-11-04T00:47:47.512Z"
   },
   {
    "duration": 10,
    "start_time": "2024-11-04T00:47:47.545Z"
   },
   {
    "duration": 242,
    "start_time": "2024-11-04T00:47:47.557Z"
   },
   {
    "duration": 160,
    "start_time": "2024-11-04T00:47:47.801Z"
   },
   {
    "duration": 15,
    "start_time": "2024-11-04T00:47:47.963Z"
   },
   {
    "duration": 9,
    "start_time": "2024-11-04T00:47:47.980Z"
   },
   {
    "duration": 4,
    "start_time": "2024-11-04T00:47:47.991Z"
   },
   {
    "duration": 7,
    "start_time": "2024-11-04T00:47:47.997Z"
   },
   {
    "duration": 87,
    "start_time": "2024-11-04T00:47:48.006Z"
   },
   {
    "duration": 820,
    "start_time": "2024-11-04T00:49:45.085Z"
   },
   {
    "duration": 16,
    "start_time": "2024-11-04T00:49:45.908Z"
   },
   {
    "duration": 5,
    "start_time": "2024-11-04T00:49:45.926Z"
   },
   {
    "duration": 14,
    "start_time": "2024-11-04T00:49:45.942Z"
   },
   {
    "duration": 4,
    "start_time": "2024-11-04T00:49:45.958Z"
   },
   {
    "duration": 3,
    "start_time": "2024-11-04T00:49:45.964Z"
   },
   {
    "duration": 6,
    "start_time": "2024-11-04T00:49:45.969Z"
   },
   {
    "duration": 10,
    "start_time": "2024-11-04T00:49:45.976Z"
   },
   {
    "duration": 268,
    "start_time": "2024-11-04T00:49:45.987Z"
   },
   {
    "duration": 160,
    "start_time": "2024-11-04T00:49:46.257Z"
   },
   {
    "duration": 16,
    "start_time": "2024-11-04T00:49:46.419Z"
   },
   {
    "duration": 9,
    "start_time": "2024-11-04T00:49:46.437Z"
   },
   {
    "duration": 4,
    "start_time": "2024-11-04T00:49:46.447Z"
   },
   {
    "duration": 7,
    "start_time": "2024-11-04T00:49:46.454Z"
   },
   {
    "duration": 7,
    "start_time": "2024-11-04T00:49:46.462Z"
   },
   {
    "duration": 8,
    "start_time": "2024-11-04T00:49:46.470Z"
   },
   {
    "duration": 4,
    "start_time": "2024-11-04T00:49:46.479Z"
   },
   {
    "duration": 4,
    "start_time": "2024-11-04T00:51:40.238Z"
   },
   {
    "duration": 4,
    "start_time": "2024-11-04T00:52:25.149Z"
   },
   {
    "duration": 804,
    "start_time": "2024-11-04T00:52:50.520Z"
   },
   {
    "duration": 21,
    "start_time": "2024-11-04T00:52:51.326Z"
   },
   {
    "duration": 4,
    "start_time": "2024-11-04T00:52:51.348Z"
   },
   {
    "duration": 13,
    "start_time": "2024-11-04T00:52:51.354Z"
   },
   {
    "duration": 5,
    "start_time": "2024-11-04T00:52:51.369Z"
   },
   {
    "duration": 4,
    "start_time": "2024-11-04T00:52:51.376Z"
   },
   {
    "duration": 5,
    "start_time": "2024-11-04T00:52:51.382Z"
   },
   {
    "duration": 9,
    "start_time": "2024-11-04T00:52:51.389Z"
   },
   {
    "duration": 279,
    "start_time": "2024-11-04T00:52:51.400Z"
   },
   {
    "duration": 157,
    "start_time": "2024-11-04T00:52:51.683Z"
   },
   {
    "duration": 16,
    "start_time": "2024-11-04T00:52:51.842Z"
   },
   {
    "duration": 9,
    "start_time": "2024-11-04T00:52:51.861Z"
   },
   {
    "duration": 4,
    "start_time": "2024-11-04T00:52:51.872Z"
   },
   {
    "duration": 5,
    "start_time": "2024-11-04T00:52:51.879Z"
   },
   {
    "duration": 3,
    "start_time": "2024-11-04T00:52:51.886Z"
   },
   {
    "duration": 85,
    "start_time": "2024-11-04T00:52:51.890Z"
   },
   {
    "duration": 7,
    "start_time": "2024-11-04T00:52:51.977Z"
   },
   {
    "duration": 4,
    "start_time": "2024-11-04T00:52:51.986Z"
   },
   {
    "duration": 851,
    "start_time": "2024-11-04T00:57:59.574Z"
   },
   {
    "duration": 20,
    "start_time": "2024-11-04T00:58:00.428Z"
   },
   {
    "duration": 4,
    "start_time": "2024-11-04T00:58:00.450Z"
   },
   {
    "duration": 14,
    "start_time": "2024-11-04T00:58:00.455Z"
   },
   {
    "duration": 4,
    "start_time": "2024-11-04T00:58:00.472Z"
   },
   {
    "duration": 9,
    "start_time": "2024-11-04T00:58:00.477Z"
   },
   {
    "duration": 11,
    "start_time": "2024-11-04T00:58:00.489Z"
   },
   {
    "duration": 15,
    "start_time": "2024-11-04T00:58:00.504Z"
   },
   {
    "duration": 267,
    "start_time": "2024-11-04T00:58:00.520Z"
   },
   {
    "duration": 177,
    "start_time": "2024-11-04T00:58:00.789Z"
   },
   {
    "duration": 16,
    "start_time": "2024-11-04T00:58:00.968Z"
   },
   {
    "duration": 9,
    "start_time": "2024-11-04T00:58:00.986Z"
   },
   {
    "duration": 4,
    "start_time": "2024-11-04T00:58:00.996Z"
   },
   {
    "duration": 6,
    "start_time": "2024-11-04T00:58:01.003Z"
   },
   {
    "duration": 3,
    "start_time": "2024-11-04T00:58:01.011Z"
   },
   {
    "duration": 10,
    "start_time": "2024-11-04T00:58:01.045Z"
   },
   {
    "duration": 58,
    "start_time": "2024-11-04T00:58:01.057Z"
   },
   {
    "duration": 4,
    "start_time": "2024-11-04T00:58:01.116Z"
   },
   {
    "duration": 794,
    "start_time": "2024-11-04T00:58:47.132Z"
   },
   {
    "duration": 20,
    "start_time": "2024-11-04T00:58:47.928Z"
   },
   {
    "duration": 4,
    "start_time": "2024-11-04T00:58:47.950Z"
   },
   {
    "duration": 13,
    "start_time": "2024-11-04T00:58:47.956Z"
   },
   {
    "duration": 4,
    "start_time": "2024-11-04T00:58:47.972Z"
   },
   {
    "duration": 4,
    "start_time": "2024-11-04T00:58:47.978Z"
   },
   {
    "duration": 7,
    "start_time": "2024-11-04T00:58:47.983Z"
   },
   {
    "duration": 10,
    "start_time": "2024-11-04T00:58:47.991Z"
   },
   {
    "duration": 269,
    "start_time": "2024-11-04T00:58:48.002Z"
   },
   {
    "duration": 169,
    "start_time": "2024-11-04T00:58:48.273Z"
   },
   {
    "duration": 22,
    "start_time": "2024-11-04T00:58:48.444Z"
   },
   {
    "duration": 10,
    "start_time": "2024-11-04T00:58:48.468Z"
   },
   {
    "duration": 5,
    "start_time": "2024-11-04T00:58:48.480Z"
   },
   {
    "duration": 7,
    "start_time": "2024-11-04T00:58:48.488Z"
   },
   {
    "duration": 3,
    "start_time": "2024-11-04T00:58:48.497Z"
   },
   {
    "duration": 4,
    "start_time": "2024-11-04T00:58:48.502Z"
   },
   {
    "duration": 0,
    "start_time": "2024-11-04T00:58:48.542Z"
   },
   {
    "duration": 0,
    "start_time": "2024-11-04T00:58:48.543Z"
   },
   {
    "duration": 761,
    "start_time": "2024-11-04T00:59:01.500Z"
   },
   {
    "duration": 16,
    "start_time": "2024-11-04T00:59:02.264Z"
   },
   {
    "duration": 4,
    "start_time": "2024-11-04T00:59:02.282Z"
   },
   {
    "duration": 13,
    "start_time": "2024-11-04T00:59:02.287Z"
   },
   {
    "duration": 5,
    "start_time": "2024-11-04T00:59:02.302Z"
   },
   {
    "duration": 3,
    "start_time": "2024-11-04T00:59:02.308Z"
   },
   {
    "duration": 33,
    "start_time": "2024-11-04T00:59:02.314Z"
   },
   {
    "duration": 9,
    "start_time": "2024-11-04T00:59:02.348Z"
   },
   {
    "duration": 244,
    "start_time": "2024-11-04T00:59:02.359Z"
   },
   {
    "duration": 178,
    "start_time": "2024-11-04T00:59:02.605Z"
   },
   {
    "duration": 16,
    "start_time": "2024-11-04T00:59:02.786Z"
   },
   {
    "duration": 10,
    "start_time": "2024-11-04T00:59:02.804Z"
   },
   {
    "duration": 4,
    "start_time": "2024-11-04T00:59:02.816Z"
   },
   {
    "duration": 6,
    "start_time": "2024-11-04T00:59:02.843Z"
   },
   {
    "duration": 3,
    "start_time": "2024-11-04T00:59:02.851Z"
   },
   {
    "duration": 8,
    "start_time": "2024-11-04T00:59:02.855Z"
   },
   {
    "duration": 79,
    "start_time": "2024-11-04T00:59:02.864Z"
   },
   {
    "duration": 4,
    "start_time": "2024-11-04T00:59:02.945Z"
   }
  ],
  "kernelspec": {
   "display_name": "Python 3 (ipykernel)",
   "language": "python",
   "name": "python3"
  },
  "language_info": {
   "codemirror_mode": {
    "name": "ipython",
    "version": 3
   },
   "file_extension": ".py",
   "mimetype": "text/x-python",
   "name": "python",
   "nbconvert_exporter": "python",
   "pygments_lexer": "ipython3",
   "version": "3.9.19"
  },
  "toc": {
   "base_numbering": 1,
   "nav_menu": {},
   "number_sections": true,
   "sideBar": true,
   "skip_h1_title": true,
   "title_cell": "Table of Contents",
   "title_sidebar": "Contents",
   "toc_cell": false,
   "toc_position": {},
   "toc_section_display": true,
   "toc_window_display": false
  }
 },
 "nbformat": 4,
 "nbformat_minor": 2
}
